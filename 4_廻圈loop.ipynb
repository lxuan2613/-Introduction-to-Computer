課程目標：
[1].使用range 函式 的功能建立整數循序數列

[2].使用for 廻圈 執行固定次數的廻圈運算(通常)
[3].使用while 廻圈執行沒有固定次數的廻圈運算

[4].continue 指令 
  是在廻圈執行中途暫時停住不往下執行，而跳到廻圈的起始處執行
[5].break 指令:可在廻圈執行中途強迫跳離廻圈，跳到廻圈後面的程式繼續執行。

[6].廻圈中又包含廻圈的巢狀廻圈(Nested Loop)　===>設計九九乘法表
PS:Python沒有do… while 廻圈
你自己實作一個吧?!!
1.range() 函式
 使用range 函式 的建立整數循序數列

變數1 = range(整數值)
變數2 = range(起始值, 終止值)
變數3 = range(起始值, 終止值, 多少間隔)
底下程式執行後結果為何?

list1=range(10)
print(list1)
In [2]:
list1=range(10)
print(list1)
range(0, 10)
底下程式執行後結果為何?

list1=range(10)
print(list1)

print(list(list1))
In [3]:
list1=range(10)
print(list1)

print(list(list1))
range(0, 10)
[0, 1, 2, 3, 4, 5, 6, 7, 8, 9]
底下程式執行後結果為何?

list2=range(-4,5)
print(list(list2))
In [4]:
list2=range(-4,5)
print(list(list2))
[-4, -3, -2, -1, 0, 1, 2, 3, 4]
底下程式執行後結果為何?

list3=range(-4,5,2)
print(list(list3))
In [5]:
list3=range(-4,5,2)
print(list(list3))
[-4, -2, 0, 2, 4]
[2]for 廻圈
使用for 廻圈 執行固定次數的廻圈運算(通常)
底下程式執行後結果為何?

for n in range(5):
  print(n)
In [6]:
for n in range(5):
  print(n)
0
1
2
3
4
作業:印出底下range(5)數字
0 1 2 3 4
In [9]:
for n in range(5):
    print(n, end=' ')
0 1 2 3 4 
底下程式執行後結果為何?

for n in range(10):
    print(n, end='@')
In [7]:
for n in range(10):
    print(n, end='@')
0@1@2@3@4@5@6@7@8@9@
In [10]:
for n in range(10):
   print(n, end='%%%%')
0%%%%1%%%%2%%%%3%%%%4%%%%5%%%%6%%%%7%%%%8%%%%9%%%%
底下程式執行後結果為何?

mysum = 0

for n in range(5):
  mysum += n
  print(mysum)
mysum += n
就是
mysum = mysum + n
In [11]:
mysum = 0

for n in range(5):
  mysum += n
  print(mysum)
0
1
3
6
10
底下程式執行後結果為何?

mysum = 0

for n in range(5):
  mysum += n

print(mysum)
[程式閱讀題]
執行下列程式並說明其結果

numbers = [21, 4, 35, 1, 8, 7, 3, 6, 9]
my_numbers = []

for number in numbers:
  if (number % 2 != 0): 
    my_numbers.append(number)

print(my_numbers)
In [12]:
numbers = [21, 4, 35, 1, 8, 7, 3, 6, 9]
my_numbers = []

for number in numbers:
  if (number % 2 != 0): 
    my_numbers.append(number)

print(my_numbers)
[21, 35, 1, 7, 3, 9]
[程式閱讀題]
上述程式如果第五行改成 if (number % 2 = 0):答案會是甚麼??

[程式填充題]
下列程式將某LIST中的奇數挑出

請完成其中填空

numbers = [21, 4, 35, 1, 8, 7, 3, 6, 9]
my_numbers = []

for number in numbers:
  if _______________: 
    my_numbers.append(number)

print(my_numbers)
[3]While Loop
n階程的計算:n!=1*2*3*⋯*n
1!　=　１
2!　=　1*2　=　2
3!　=　1*2*3　=　6

輸入::一個正整數 n
輸出::n!

當使用者輸入一個正整數 n 後，
程式就會顯示1*2*3*...*n 的乘積
請使用 while loop設計這個程式
[程式填充題]
下列程式為n階程的計算

請完成其中填空

total = 1
i = 1

n = int(input("請輸入正整數 n 的值："))

while(i<=n):
    ___________________ 
    ___________________      

print("%d!=%d" % (n, total))
In [13]:
total = 1
i = 1

n = int(input("請輸入正整數 n 的值："))

while(i<=n):
    total *= i  
    i+=1      

print("%d!=%d" % (n, total))
請輸入正整數 n 的值：3
3!=6
